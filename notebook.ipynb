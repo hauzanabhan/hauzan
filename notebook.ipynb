{
 "cells": [
  {
   "cell_type": "code",
   "execution_count": 1,
   "metadata": {},
   "outputs": [
    {
     "name": "stdout",
     "output_type": "stream",
     "text": [
      "ispu: \n",
      "128.22222222222223\n",
      "surabaya\n",
      "tidak sehat\n"
     ]
    }
   ],
   "source": [
    "name = \"surabaya\"\n",
    "konsentrasi_embien_hasil_pengukuran_PM10 = 210\n",
    "PSI_batas_atas_PM10 = 150\n",
    "PSI_batas_bawah_PM10 = 101\n",
    "konsentrasi_embien_batas_atas_PM10 = 254\n",
    "konsentrasi_embien_batas_bawah_PM10 = 155\n",
    "\n",
    "ispu = (PSI_batas_atas_PM10 - PSI_batas_bawah_PM10) / (konsentrasi_embien_batas_atas_PM10 - konsentrasi_embien_batas_bawah_PM10) * (konsentrasi_embien_hasil_pengukuran_PM10 - konsentrasi_embien_batas_bawah_PM10) + PSI_batas_bawah_PM10\n",
    "print(\"ispu: \")\n",
    "print(ispu)\n",
    "if 0<ispu<50:\n",
    "    print(name)\n",
    "    print(\"baik\")\n",
    "elif 51<ispu<100:\n",
    "    print(name)\n",
    "    print(\"sedang\")\n",
    "elif 101<ispu<199:\n",
    "    print(name)\n",
    "    print(\"tidak sehat\")\n",
    "elif 200<ispu<299:\n",
    "    print(name)\n",
    "    print(\"sangat tidak sehat\")\n",
    "else:\n",
    "    print(name)\n",
    "    print(\"berbahaya\")"
   ]
  },
  {
   "cell_type": "code",
   "execution_count": null,
   "metadata": {},
   "outputs": [],
   "source": []
  }
 ],
 "metadata": {
  "kernelspec": {
   "display_name": "Python 3",
   "language": "python",
   "name": "python3"
  },
  "language_info": {
   "codemirror_mode": {
    "name": "ipython",
    "version": 3
   },
   "file_extension": ".py",
   "mimetype": "text/x-python",
   "name": "python",
   "nbconvert_exporter": "python",
   "pygments_lexer": "ipython3",
   "version": "3.7.4"
  }
 },
 "nbformat": 4,
 "nbformat_minor": 2
}
